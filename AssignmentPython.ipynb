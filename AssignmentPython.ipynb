{
  "nbformat": 4,
  "nbformat_minor": 0,
  "metadata": {
    "colab": {
      "provenance": [],
      "authorship_tag": "ABX9TyMe4CDvjFwiKyreQC6231n3",
      "include_colab_link": true
    },
    "kernelspec": {
      "name": "python3",
      "display_name": "Python 3"
    },
    "language_info": {
      "name": "python"
    }
  },
  "cells": [
    {
      "cell_type": "markdown",
      "metadata": {
        "id": "view-in-github",
        "colab_type": "text"
      },
      "source": [
        "<a href=\"https://colab.research.google.com/github/NoorullaDurrani/Kafka-streams/blob/master/AssignmentPython.ipynb\" target=\"_parent\"><img src=\"https://colab.research.google.com/assets/colab-badge.svg\" alt=\"Open In Colab\"/></a>"
      ]
    },
    {
      "cell_type": "code",
      "execution_count": 3,
      "metadata": {
        "colab": {
          "base_uri": "https://localhost:8080/",
          "height": 35
        },
        "id": "onTmC71ITnhN",
        "outputId": "2937ba1b-382d-41db-dedf-f979f6620a1c"
      },
      "outputs": [
        {
          "output_type": "execute_result",
          "data": {
            "text/plain": [
              "'gal'"
            ],
            "application/vnd.google.colaboratory.intrinsic+json": {
              "type": "string"
            }
          },
          "metadata": {},
          "execution_count": 3
        }
      ],
      "source": [
        "# Exercise 1\n",
        "def getMiddleThreeChars(s):\n",
        "    middle_index = int(len(s) / 2)\n",
        "    return s[middle_index-1:middle_index+2]\n",
        "\n",
        "getMiddleThreeChars(\"Bangalore\")\n",
        "\n",
        "\n"
      ]
    },
    {
      "cell_type": "code",
      "source": [
        "# Exercise 2\n",
        "def appendMiddle(s1, s2):\n",
        "    middle_index = int(len(s1) / 2)\n",
        "    return s1[:middle_index] + s2 + s1[middle_index:]\n",
        "\n",
        "appendMiddle(\"First\",\"Second\")\n",
        "\n"
      ],
      "metadata": {
        "colab": {
          "base_uri": "https://localhost:8080/",
          "height": 35
        },
        "id": "OCT2dCEVUVK5",
        "outputId": "8bab1660-cf96-4f76-ad0d-2b00889355ae"
      },
      "execution_count": 4,
      "outputs": [
        {
          "output_type": "execute_result",
          "data": {
            "text/plain": [
              "'FiSecondrst'"
            ],
            "application/vnd.google.colaboratory.intrinsic+json": {
              "type": "string"
            }
          },
          "metadata": {},
          "execution_count": 4
        }
      ]
    },
    {
      "cell_type": "code",
      "source": [
        "# Exercise 3\n",
        "def mixString(s1, s2):\n",
        "    first_char = s1[0] + s2[0]\n",
        "    middle_char = s1[int(len(s1) / 2)] + s2[int(len(s2) / 2)]\n",
        "    last_char = s1[-1] + s2[-1]\n",
        "    return first_char + middle_char + last_char\n",
        "\n",
        "mixString(\"Hello\",\"Bye\")\n"
      ],
      "metadata": {
        "colab": {
          "base_uri": "https://localhost:8080/",
          "height": 35
        },
        "id": "ufPXnFWAUToP",
        "outputId": "f6834cbb-539c-4b21-a587-3265eb0f183b"
      },
      "execution_count": 5,
      "outputs": [
        {
          "output_type": "execute_result",
          "data": {
            "text/plain": [
              "'HBlyoe'"
            ],
            "application/vnd.google.colaboratory.intrinsic+json": {
              "type": "string"
            }
          },
          "metadata": {},
          "execution_count": 5
        }
      ]
    },
    {
      "cell_type": "code",
      "source": [
        "\n",
        "# Exercise 4\n",
        "def arrangeString(s):\n",
        "    lower = []\n",
        "    upper = []\n",
        "    for char in s:\n",
        "        if char.islower():\n",
        "            lower.append(char)\n",
        "        else:\n",
        "            upper.append(char)\n",
        "    return ''.join(lower + upper)\n",
        "\n",
        "\n",
        "arrangeString(\"HeTLB\")\n"
      ],
      "metadata": {
        "colab": {
          "base_uri": "https://localhost:8080/",
          "height": 35
        },
        "id": "TLzOzaj7USXN",
        "outputId": "e833a39c-91e0-46c4-808d-104f34e94047"
      },
      "execution_count": 6,
      "outputs": [
        {
          "output_type": "execute_result",
          "data": {
            "text/plain": [
              "'eHTLB'"
            ],
            "application/vnd.google.colaboratory.intrinsic+json": {
              "type": "string"
            }
          },
          "metadata": {},
          "execution_count": 6
        }
      ]
    },
    {
      "cell_type": "code",
      "source": [
        "\n",
        "# Exercise 5\n",
        "def count_chars(s):\n",
        "    chars = 0\n",
        "    digits = 0\n",
        "    symbols = 0\n",
        "    for char in s:\n",
        "        if char.islower() or char.isupper():\n",
        "            chars += 1\n",
        "        elif char.isdigit():\n",
        "            digits += 1\n",
        "        else:\n",
        "            symbols += 1\n",
        "    return chars, digits, symbols\n",
        "\n",
        "count_chars(\"De32@\")\n",
        "\n"
      ],
      "metadata": {
        "colab": {
          "base_uri": "https://localhost:8080/"
        },
        "id": "-uagD7N8UQ1w",
        "outputId": "d4ca75a9-84ed-4572-e0fc-1825be30141e"
      },
      "execution_count": 9,
      "outputs": [
        {
          "output_type": "execute_result",
          "data": {
            "text/plain": [
              "(2, 2, 1)"
            ]
          },
          "metadata": {},
          "execution_count": 9
        }
      ]
    },
    {
      "cell_type": "code",
      "source": [
        "\n",
        "# Exercise 6\n",
        "def mixString(string1,string2):\n",
        "    mixedstring = \"\"\n",
        "    len_s1 = len(string1)\n",
        "    len_s2 = len(string2)\n",
        "    len_min = min(len_s1,len_s2)\n",
        "\n",
        "    for i in range(len_min):\n",
        "      mixedstring+=string1[i] + string2[-i-1]\n",
        "\n",
        "    if(len_s1 > len_s2):\n",
        "      mixedstring+=string1[len_s2:]\n",
        "    else:\n",
        "      mixedstring += string2[:len_s1-1:-1]\n",
        "    return mixedstring\n",
        "\n",
        "mixString(\"Hello\",\"Wello\")\n"
      ],
      "metadata": {
        "colab": {
          "base_uri": "https://localhost:8080/",
          "height": 35
        },
        "id": "3PqfRnQvUOhJ",
        "outputId": "0aff44f4-feb8-4c11-e80a-7e84582144e7"
      },
      "execution_count": 11,
      "outputs": [
        {
          "output_type": "execute_result",
          "data": {
            "text/plain": [
              "'HoelllleoW'"
            ],
            "application/vnd.google.colaboratory.intrinsic+json": {
              "type": "string"
            }
          },
          "metadata": {},
          "execution_count": 11
        }
      ]
    },
    {
      "cell_type": "code",
      "source": [
        "# Exercise 7\n",
        "def stringBalanceCheck(s1, s2):\n",
        "    for char in s1:\n",
        "        if char not in s2:\n",
        "            return False\n",
        "    return True\n",
        "stringBalanceCheck(\"yn\", \"Pynative\")\n"
      ],
      "metadata": {
        "colab": {
          "base_uri": "https://localhost:8080/"
        },
        "id": "RjalKexNUMbH",
        "outputId": "822c2662-dbcd-48e5-f927-d06d77d2d39a"
      },
      "execution_count": 14,
      "outputs": [
        {
          "output_type": "execute_result",
          "data": {
            "text/plain": [
              "True"
            ]
          },
          "metadata": {},
          "execution_count": 14
        }
      ]
    },
    {
      "cell_type": "code",
      "source": [
        "# Exercise 8\n",
        "def countUSA(s):\n",
        "    return s.lower().count('usa')\n",
        "\n",
        "countUSA(\"Welcome to USA. usa awesome, isn't it?\")\n",
        "\n"
      ],
      "metadata": {
        "colab": {
          "base_uri": "https://localhost:8080/"
        },
        "id": "6qrmqrNSULY5",
        "outputId": "78c28404-d668-4e7a-bb6d-a631d918ee80"
      },
      "execution_count": 15,
      "outputs": [
        {
          "output_type": "execute_result",
          "data": {
            "text/plain": [
              "2"
            ]
          },
          "metadata": {},
          "execution_count": 15
        }
      ]
    },
    {
      "cell_type": "code",
      "source": [
        "# Exercise 9\n",
        "def sumAndAverage(s):\n",
        "    numbers = [int(word) for word in s.split() if word.isdigit()]\n",
        "    return sum(numbers), sum(numbers) / len(numbers)\n",
        "\n"
      ],
      "metadata": {
        "id": "udKpBv5GUJ8n"
      },
      "execution_count": null,
      "outputs": []
    },
    {
      "cell_type": "code",
      "source": [
        "# Exercise 10\n",
        "def count(s):\n",
        "    return {char: s.count(char) for char in set(s)}\n",
        "count(\"pynativepynvepynative\")\n"
      ],
      "metadata": {
        "colab": {
          "base_uri": "https://localhost:8080/"
        },
        "id": "bFooqNUAUI0h",
        "outputId": "157ef538-e192-4201-8f67-0ebb2719ba35"
      },
      "execution_count": 16,
      "outputs": [
        {
          "output_type": "execute_result",
          "data": {
            "text/plain": [
              "{'y': 3, 't': 2, 'e': 3, 'i': 2, 'n': 3, 'p': 3, 'v': 3, 'a': 2}"
            ]
          },
          "metadata": {},
          "execution_count": 16
        }
      ]
    },
    {
      "cell_type": "code",
      "source": [
        "# Exercise 11\n",
        "def sum_diagonal(matrix):\n",
        "    return sum(matrix[i][i] for i in range(len(matrix)))\n",
        "\n",
        "\n",
        "\n"
      ],
      "metadata": {
        "id": "EFszdo7NUHhi"
      },
      "execution_count": null,
      "outputs": []
    },
    {
      "cell_type": "code",
      "source": [
        "# Exercise 12\n",
        "def separate_and_sort(gadgets):\n",
        "    strings = sorted([item for item in gadgets if isinstance(item, str)])\n",
        "    numbers = sorted([item for item in gadgets if isinstance(item, (int, float))])\n",
        "    return strings, numbers\n"
      ],
      "metadata": {
        "id": "XEUYVgXOUGdI"
      },
      "execution_count": null,
      "outputs": []
    },
    {
      "cell_type": "code",
      "source": [
        "# Exercise 13\n",
        "def get_best_scores(scores):\n",
        "    return sorted(set(scores), reverse=True)[:2]\n",
        "\n",
        "\n"
      ],
      "metadata": {
        "id": "MSOvQRfbUEX8"
      },
      "execution_count": null,
      "outputs": []
    },
    {
      "cell_type": "code",
      "source": [
        "# Exercise 14\n",
        "def number_in_words(number):\n",
        "    words = {1: 'One', 2: 'Two', 3: 'Three', 4: 'Four'}\n",
        "    return ' '.join([words[int(digit)] for digit in str(number)])\n",
        "\n",
        "\n"
      ],
      "metadata": {
        "id": "nSL1FUoEUC5R"
      },
      "execution_count": null,
      "outputs": []
    },
    {
      "cell_type": "code",
      "source": [
        "\n",
        "# Exercise 15\n",
        "def reverse_list(aList):\n",
        "    return aList[::-1]\n",
        "\n"
      ],
      "metadata": {
        "id": "ntzUt2SRUBXv"
      },
      "execution_count": null,
      "outputs": []
    },
    {
      "cell_type": "code",
      "source": [
        "# Exercise 16\n",
        "def concatenate_lists_index_wise(list1, list2):\n",
        "    return [a + b for a, b in zip(list1, list2)]\n",
        "\n"
      ],
      "metadata": {
        "id": "lt0wdaeVT_iI"
      },
      "execution_count": null,
      "outputs": []
    },
    {
      "cell_type": "code",
      "source": [
        "# Exercise 17\n",
        "def concatenate_lists_in_order(list1, list2):\n",
        "    return [a + b for a in list1 for b in list2]\n",
        "\n"
      ],
      "metadata": {
        "id": "jI6kgJxnT-Cb"
      },
      "execution_count": null,
      "outputs": []
    },
    {
      "cell_type": "code",
      "source": [
        "# Exercise 18\n",
        "def iterate_lists(list1, list2):\n",
        "    for a, b in zip(list1, list2[::-1]):\n",
        "        print(a, b)\n"
      ],
      "metadata": {
        "id": "W9SmQoPzT7fG"
      },
      "execution_count": null,
      "outputs": []
    },
    {
      "cell_type": "code",
      "source": [
        "# Exercise 19\n",
        "def remove_empty_strings(list1):\n",
        "    return [item for item in list1 if item]\n",
        "\n"
      ],
      "metadata": {
        "id": "KdJOiiOJT6NS"
      },
      "execution_count": null,
      "outputs": []
    },
    {
      "cell_type": "code",
      "source": [
        "# Exercise 20\n",
        "def add_item(list1, item):\n",
        "    list1[2][2].append(item)\n",
        "    return list1"
      ],
      "metadata": {
        "id": "-HdJCO1sT319"
      },
      "execution_count": null,
      "outputs": []
    },
    {
      "cell_type": "code",
      "source": [
        "# Exercise 21\n",
        "def extend_list(list1, sublist):\n",
        "    list1[2][1][2].extend(sublist)\n",
        "    return list1\n",
        "\n"
      ],
      "metadata": {
        "id": "ib304KSxT2O2"
      },
      "execution_count": null,
      "outputs": []
    },
    {
      "cell_type": "code",
      "source": [
        "# Exercise 22\n",
        "def replace_first_occurrence(list1, old, new):\n",
        "    index = list1.index(old)\n",
        "    list1[index] = new\n",
        "    return list1"
      ],
      "metadata": {
        "id": "GlaDsn1NTzTM"
      },
      "execution_count": null,
      "outputs": []
    },
    {
      "cell_type": "code",
      "source": [
        "\n",
        "# Exercise 23\n",
        "def remove_all_occurrences(list1, item):\n",
        "    return [i for i in list1 if i != item]\n",
        "\n",
        "\n"
      ],
      "metadata": {
        "id": "EhuGTOJ8TyAB"
      },
      "execution_count": null,
      "outputs": []
    },
    {
      "cell_type": "code",
      "source": [
        "# Exercise 24\n",
        "def sort_tuple(tuple1):\n",
        "    return tuple(sorted(list(tuple1), key=lambda x: x[1]))\n",
        "\n"
      ],
      "metadata": {
        "id": "KVADKTOpTwrt"
      },
      "execution_count": null,
      "outputs": []
    },
    {
      "cell_type": "code",
      "source": [
        "# Exercise 25\n",
        "def count_occurrences(tuple1, item):\n",
        "    return tuple1.count(item)"
      ],
      "metadata": {
        "id": "t7rWxtTPTtLA"
      },
      "execution_count": null,
      "outputs": []
    },
    {
      "cell_type": "code",
      "source": [
        "# Exercise 26\n",
        "def check_same_items(tuple1):\n",
        "    return len(set(tuple1)) == 1"
      ],
      "metadata": {
        "id": "HUwdpg3iTqgH"
      },
      "execution_count": null,
      "outputs": []
    }
  ]
}